{
 "cells": [
  {
   "cell_type": "code",
   "execution_count": 2,
   "metadata": {},
   "outputs": [
    {
     "data": {
      "text/html": [
       "<div>\n",
       "<style scoped>\n",
       "    .dataframe tbody tr th:only-of-type {\n",
       "        vertical-align: middle;\n",
       "    }\n",
       "\n",
       "    .dataframe tbody tr th {\n",
       "        vertical-align: top;\n",
       "    }\n",
       "\n",
       "    .dataframe thead th {\n",
       "        text-align: right;\n",
       "    }\n",
       "</style>\n",
       "<table border=\"1\" class=\"dataframe\">\n",
       "  <thead>\n",
       "    <tr style=\"text-align: right;\">\n",
       "      <th></th>\n",
       "      <th>Event</th>\n",
       "      <th>NmHitDAQ1</th>\n",
       "      <th>MinFracDay</th>\n",
       "      <th>JulDay</th>\n",
       "      <th>SSDB</th>\n",
       "      <th>eventDateTime</th>\n",
       "      <th>Hit1.ch1</th>\n",
       "      <th>PW1</th>\n",
       "      <th>Hit1.ch2</th>\n",
       "      <th>PW2</th>\n",
       "      <th>...</th>\n",
       "      <th>Hit1.ch4</th>\n",
       "      <th>PW4</th>\n",
       "      <th>Hit2.ch1</th>\n",
       "      <th>PW1.1</th>\n",
       "      <th>Hit2.ch2</th>\n",
       "      <th>PW2.1</th>\n",
       "      <th>Hit2.ch3</th>\n",
       "      <th>PW3.1</th>\n",
       "      <th>Hit2.ch4</th>\n",
       "      <th>PW4.1</th>\n",
       "    </tr>\n",
       "  </thead>\n",
       "  <tbody>\n",
       "    <tr>\n",
       "      <th>0</th>\n",
       "      <td>1</td>\n",
       "      <td>4</td>\n",
       "      <td>0.500012</td>\n",
       "      <td>2459747</td>\n",
       "      <td>43201.03</td>\n",
       "      <td>6/17/2022 0:0:1</td>\n",
       "      <td>0.00</td>\n",
       "      <td>17.50</td>\n",
       "      <td>2.50</td>\n",
       "      <td>25.00</td>\n",
       "      <td>...</td>\n",
       "      <td>3.0</td>\n",
       "      <td>25.01</td>\n",
       "      <td>-1.0</td>\n",
       "      <td>-1.0</td>\n",
       "      <td>-1.0</td>\n",
       "      <td>-1.0</td>\n",
       "      <td>-1.0</td>\n",
       "      <td>-1.0</td>\n",
       "      <td>-1.0</td>\n",
       "      <td>-1.0</td>\n",
       "    </tr>\n",
       "    <tr>\n",
       "      <th>1</th>\n",
       "      <td>2</td>\n",
       "      <td>4</td>\n",
       "      <td>0.500012</td>\n",
       "      <td>2459747</td>\n",
       "      <td>43201.07</td>\n",
       "      <td>6/17/2022 0:0:1</td>\n",
       "      <td>0.75</td>\n",
       "      <td>22.49</td>\n",
       "      <td>0.75</td>\n",
       "      <td>23.75</td>\n",
       "      <td>...</td>\n",
       "      <td>0.0</td>\n",
       "      <td>23.75</td>\n",
       "      <td>-1.0</td>\n",
       "      <td>-1.0</td>\n",
       "      <td>-1.0</td>\n",
       "      <td>-1.0</td>\n",
       "      <td>-1.0</td>\n",
       "      <td>-1.0</td>\n",
       "      <td>-1.0</td>\n",
       "      <td>-1.0</td>\n",
       "    </tr>\n",
       "    <tr>\n",
       "      <th>2</th>\n",
       "      <td>3</td>\n",
       "      <td>2</td>\n",
       "      <td>0.500013</td>\n",
       "      <td>2459747</td>\n",
       "      <td>43201.16</td>\n",
       "      <td>6/17/2022 0:0:1</td>\n",
       "      <td>-1.00</td>\n",
       "      <td>-1.00</td>\n",
       "      <td>-1.00</td>\n",
       "      <td>-1.00</td>\n",
       "      <td>...</td>\n",
       "      <td>0.0</td>\n",
       "      <td>32.50</td>\n",
       "      <td>-1.0</td>\n",
       "      <td>-1.0</td>\n",
       "      <td>-1.0</td>\n",
       "      <td>-1.0</td>\n",
       "      <td>-1.0</td>\n",
       "      <td>-1.0</td>\n",
       "      <td>-1.0</td>\n",
       "      <td>-1.0</td>\n",
       "    </tr>\n",
       "  </tbody>\n",
       "</table>\n",
       "<p>3 rows × 22 columns</p>\n",
       "</div>"
      ],
      "text/plain": [
       "   Event  NmHitDAQ1  MinFracDay   JulDay      SSDB    eventDateTime  Hit1.ch1  \\\n",
       "0      1          4    0.500012  2459747  43201.03  6/17/2022 0:0:1      0.00   \n",
       "1      2          4    0.500012  2459747  43201.07  6/17/2022 0:0:1      0.75   \n",
       "2      3          2    0.500013  2459747  43201.16  6/17/2022 0:0:1     -1.00   \n",
       "\n",
       "     PW1  Hit1.ch2    PW2  ...  Hit1.ch4    PW4  Hit2.ch1  PW1.1  Hit2.ch2  \\\n",
       "0  17.50      2.50  25.00  ...       3.0  25.01      -1.0   -1.0      -1.0   \n",
       "1  22.49      0.75  23.75  ...       0.0  23.75      -1.0   -1.0      -1.0   \n",
       "2  -1.00     -1.00  -1.00  ...       0.0  32.50      -1.0   -1.0      -1.0   \n",
       "\n",
       "   PW2.1  Hit2.ch3  PW3.1  Hit2.ch4  PW4.1  \n",
       "0   -1.0      -1.0   -1.0      -1.0   -1.0  \n",
       "1   -1.0      -1.0   -1.0      -1.0   -1.0  \n",
       "2   -1.0      -1.0   -1.0      -1.0   -1.0  \n",
       "\n",
       "[3 rows x 22 columns]"
      ]
     },
     "execution_count": 2,
     "metadata": {},
     "output_type": "execute_result"
    }
   ],
   "source": [
    "import pandas as pd\n",
    "pd.options.mode.chained_assignment = None  # default='warn'\n",
    "import numpy as np\n",
    "import matplotlib as mpl\n",
    "import matplotlib.pyplot as plt\n",
    "from IPython.core.interactiveshell import InteractiveShell\n",
    "InteractiveShell.ast_node_interactivity = \"all\"\n",
    "\n",
    "#read the file\n",
    "    \n",
    "data = pd.read_table('6119-hybridOut-June17-27.txt', skiprows=1)\n",
    "\n",
    "#drop columns with NaN\n",
    "\n",
    "data = data.dropna(axis='columns', how ='all')\n",
    "\n",
    "#fix the headers\n",
    "\n",
    "data = data.rename({'Event': 'Event', 'MinFracDay': 'NmHitDAQ1', \\\n",
    "\n",
    "                   'JulDay':'MinFracDay','Unnamed: 6':'JulDay', \\\n",
    "\n",
    "                   'Unnamed: 8':'SSDB', 'Unnamed: 10':'Hit1.ch1', \\\n",
    "\n",
    "                   'Unnamed: 13':'Hit1.ch2','Unnamed: 16':'Hit1.ch3', \\\n",
    "\n",
    "                   'Unnamed: 19':'Hit1.ch4','Unnamed: 22':'Hit2.ch1', \\\n",
    "\n",
    "                   'Unnamed: 25':'Hit2.ch2','Unnamed: 28':'Hit2.ch3', \\\n",
    "\n",
    "                   'Unnamed: 31':'Hit2.ch4'\n",
    "\n",
    "                   },\n",
    "\n",
    "                  axis=1)\n",
    "cols = data.columns\n",
    "\n",
    "cols = cols.map(lambda x: x.replace('#', '_') if isinstance(x, (str or unicode)) else x)\n",
    "\n",
    "data.columns = cols\n",
    "\n",
    "data.head(3)"
   ]
  },
  {
   "cell_type": "code",
   "execution_count": 3,
   "metadata": {},
   "outputs": [
    {
     "data": {
      "text/plain": [
       "<matplotlib.collections.PathCollection at 0x7fc40a1d88b0>"
      ]
     },
     "execution_count": 3,
     "metadata": {},
     "output_type": "execute_result"
    },
    {
     "data": {
      "text/plain": [
       "(-30.0, 30.0)"
      ]
     },
     "execution_count": 3,
     "metadata": {},
     "output_type": "execute_result"
    },
    {
     "data": {
      "text/plain": [
       "(-30.0, 30.0)"
      ]
     },
     "execution_count": 3,
     "metadata": {},
     "output_type": "execute_result"
    },
    {
     "data": {
      "text/plain": [
       "Text(0.5, 0, 'Ch3 - Ch2')"
      ]
     },
     "execution_count": 3,
     "metadata": {},
     "output_type": "execute_result"
    },
    {
     "data": {
      "text/plain": [
       "Text(0, 0.5, 'Ch4 - Ch1')"
      ]
     },
     "execution_count": 3,
     "metadata": {},
     "output_type": "execute_result"
    },
    {
     "data": {
      "image/png": "[encoded data removed]",
      "text/plain": [
       "<Figure size 432x288 with 1 Axes>"
      ]
     },
     "metadata": {
      "needs_background": "light"
     },
     "output_type": "display_data"
    }
   ],
   "source": [
    "#Plotting a Scatter Plot\n",
    "data['Filter_1'] = data.iloc[:, 6] != -1  \n",
    "data['Filter_2'] = data.iloc[:, 8] != -1 \n",
    "data['Filter_3'] = data.iloc[:, 10] != -1 \n",
    "data['Filter_4'] = data.iloc[:, 12] != -1 \n",
    "\n",
    "filter_to_data = data.query('Filter_1 == True and Filter_2 == True and Filter_3 == True and Filter_4 == True')\n",
    "\n",
    "#Creating 2 new columns to store change\n",
    "filter_to_data['Delta_T'] = (filter_to_data['Hit1.ch4'] - filter_to_data['Hit1.ch1'])\n",
    "filter_to_data['Delta_T_V2'] = (filter_to_data['Hit1.ch3'] - filter_to_data['Hit1.ch2'])\n",
    "#Setting them to x and y axis\n",
    "x = filter_to_data['Delta_T_V2']\n",
    "y = filter_to_data['Delta_T'] \n",
    "#new_min_y = min(y)\n",
    "#new_max_y = max(y)\n",
    "#Plotting Scatter Plot\n",
    "plt.scatter(x, y, alpha=0.3, color = 'green')\n",
    "plt.xlim(-30, 30)\n",
    "plt.ylim(-30, 30)\n",
    "plt.xlabel(\"Ch3 - Ch2\")\n",
    "plt.ylabel(\"Ch4 - Ch1\")"
   ]
  },
  {
   "cell_type": "code",
   "execution_count": 47,
   "metadata": {},
   "outputs": [
    {
     "data": {
      "text/plain": [
       "Text(0.5, 0, 'Ch3 - Ch2')"
      ]
     },
     "execution_count": 47,
     "metadata": {},
     "output_type": "execute_result"
    },
    {
     "data": {
      "text/plain": [
       "Text(0, 0.5, 'Ch4 - Ch1')"
      ]
     },
     "execution_count": 47,
     "metadata": {},
     "output_type": "execute_result"
    },
    {
     "data": {
      "image/png": "[encoded data removed]",
      "text/plain": [
       "<Figure size 432x288 with 1 Axes>"
      ]
     },
     "metadata": {
      "needs_background": "light"
     },
     "output_type": "display_data"
    }
   ],
   "source": [
    "#Plotting a 2D Histogram\n",
    "\n",
    "filter_to_data['Delta_T'] = (filter_to_data['Hit1.ch3'] - filter_to_data['Hit1.ch2'])\n",
    "filter_to_data['Delta_T_V2'] = (filter_to_data['Hit1.ch4'] - filter_to_data['Hit1.ch1'])\n",
    "\n",
    "#Creating to empty lists\n",
    "no_outlier_data_V2 = []\n",
    "no_outlier_data = []\n",
    "for a,b in zip(filter_to_data['Delta_T'], filter_to_data['Delta_T_V2']):\n",
    "    if (a > -30 and a < 30 and b > -30 and b < 30): #Change to your specific limits\n",
    "        no_outlier_data_V2.append(b)\n",
    "        no_outlier_data.append(a)\n",
    "\n",
    "#print(np.size(no_outlier_data))\n",
    "#print(np.size(no_outlier_data_V2))\n",
    "\n",
    "#Plotting 2D Histogram\n",
    "fig, ax = plt.subplots(tight_layout=True)\n",
    "hist = ax.hist2d(no_outlier_data, no_outlier_data_V2,  bins= 40, norm = mpl.colors.LogNorm(), cmap = 'gist_ncar')\n",
    "plt.xlabel('Ch3 - Ch2')\n",
    "plt.ylabel('Ch4 - Ch1')\n",
    "ax.set_facecolor('grey') #Change color of background"
   ]
  },
  {
   "cell_type": "code",
   "execution_count": 48,
   "metadata": {},
   "outputs": [
    {
     "data": {
      "text/plain": [
       "<matplotlib.colorbar.Colorbar at 0x7fe13fe7a250>"
      ]
     },
     "execution_count": 48,
     "metadata": {},
     "output_type": "execute_result"
    },
    {
     "data": {
      "text/plain": [
       "Text(0.5, 0, 'Ch3 - Ch1')"
      ]
     },
     "execution_count": 48,
     "metadata": {},
     "output_type": "execute_result"
    },
    {
     "data": {
      "text/plain": [
       "Text(0, 0.5, 'Ch3 - Ch2')"
      ]
     },
     "execution_count": 48,
     "metadata": {},
     "output_type": "execute_result"
    },
    {
     "data": {
      "image/png": "[encoded data removed]",
      "text/plain": [
       "<Figure size 432x288 with 2 Axes>"
      ]
     },
     "metadata": {
      "needs_background": "light"
     },
     "output_type": "display_data"
    }
   ],
   "source": [
    "filter_to_data['Delta_T_V3'] = (filter_to_data['Hit1.ch3'] - filter_to_data['Hit1.ch1'])\n",
    "filter_to_data['Delta_T_V4'] = (filter_to_data['Hit1.ch3'] - filter_to_data['Hit1.ch2'])\n",
    "\n",
    "no_outlier_data_V3 = []\n",
    "no_outlier_data_V4 = []\n",
    "for a,b in zip(filter_to_data['Delta_T_V3'], filter_to_data['Delta_T_V4']):\n",
    "    if (a > -30 and a < 30  and b > -30 and b < 30):\n",
    "        no_outlier_data_V3.append(b)\n",
    "        no_outlier_data_V4.append(a)\n",
    "\n",
    "fig, ax = plt.subplots(tight_layout=True)\n",
    "hist = ax.hist2d(no_outlier_data_V4, no_outlier_data_V3,  bins= 40, norm = mpl.colors.LogNorm(), cmap = 'magma')\n",
    "\n",
    "#Creating the colorbar\n",
    "fig.colorbar(hist[3], ax = ax)\n",
    "plt.xlabel('Ch3 - Ch1')\n",
    "plt.ylabel('Ch3 - Ch2')\n",
    "\n",
    "ax.set_facecolor('lightgrey') "
   ]
  },
  {
   "cell_type": "code",
   "execution_count": 49,
   "metadata": {},
   "outputs": [
    {
     "data": {
      "text/plain": [
       "Text(0.5, 0, 'Ch3 - Ch1 (35 events)')"
      ]
     },
     "execution_count": 49,
     "metadata": {},
     "output_type": "execute_result"
    },
    {
     "data": {
      "text/plain": [
       "Text(0, 0.5, 'Ch3 - Ch2')"
      ]
     },
     "execution_count": 49,
     "metadata": {},
     "output_type": "execute_result"
    },
    {
     "data": {
      "image/png": "[encoded data removed]",
      "text/plain": [
       "<Figure size 432x288 with 1 Axes>"
      ]
     },
     "metadata": {
      "needs_background": "light"
     },
     "output_type": "display_data"
    }
   ],
   "source": [
    "no_outlier_data_V3_1 = []\n",
    "no_outlier_data_V4_1 = []\n",
    "for a,b in zip(filter_to_data['Delta_T_V3'], filter_to_data['Delta_T_V4']):\n",
    "    if (a > -15.2 and a < -5.2  and b > -13.14 and b < -3.54): #Focusing on Signal Region\n",
    "        no_outlier_data_V3_1.append(b)\n",
    "        no_outlier_data_V4_1.append(a)\n",
    "\n",
    "\n",
    "events = (np.size(no_outlier_data_V3_1)) #Calculates the number of possible Upward Muon Candidates\n",
    "fig, ax = plt.subplots(tight_layout=True)\n",
    "hist = ax.hist2d(no_outlier_data_V4_1, no_outlier_data_V3_1,  bins= 60, norm = mpl.colors.LogNorm(), cmap = 'magma')\n",
    "plt.xlabel('Ch3 - Ch1 (' + str(events) + ' events)')\n",
    "plt.ylabel('Ch3 - Ch2')\n",
    "ax.set_facecolor('grey') "
   ]
  },
  {
   "cell_type": "code",
   "execution_count": 50,
   "metadata": {},
   "outputs": [
    {
     "data": {
      "text/plain": [
       "Text(0.5, 0.98, 'Title')"
      ]
     },
     "execution_count": 50,
     "metadata": {},
     "output_type": "execute_result"
    },
    {
     "data": {
      "image/png": "[encoded data removed]",
      "text/plain": [
       "<Figure size 432x288 with 2 Axes>"
      ]
     },
     "metadata": {
      "needs_background": "light"
     },
     "output_type": "display_data"
    }
   ],
   "source": [
    "#2 Plots Side By Side\n",
    "fig, (ax, ax1) = plt.subplots(1, 2)\n",
    "fig.suptitle('Title')\n",
    "hist = ax.hist2d(no_outlier_data_V4, no_outlier_data_V3,  bins= 40, norm = mpl.colors.LogNorm(), cmap = 'magma')\n",
    "hist = ax1.hist2d(no_outlier_data_V4, no_outlier_data_V3,  bins= 40, norm = mpl.colors.LogNorm(), cmap = 'rainbow')"
   ]
  },
  {
   "cell_type": "code",
   "execution_count": 51,
   "metadata": {},
   "outputs": [
    {
     "name": "stdout",
     "output_type": "stream",
     "text": [
      "The total number of potential upward muon candidates is 4\n"
     ]
    }
   ],
   "source": [
    "#Using Signal Region to See Specific Upward Muon Candidates (3 Channels)\n",
    "new_ch1 = []\n",
    "new_ch2 = []\n",
    "new_ch3 = []\n",
    "it = filter_to_data.iterrows()  #get iterator\n",
    "for index, row in it:\n",
    "    a = row.Delta_T\n",
    "    b = row.Delta_T_V2\n",
    "    c = row.Delta_T_V3\n",
    "    if ((a > -9.3 and a < -4.9) and (b > - 10.8 and b < -6.0) and (c > -12.7 and c < -7.7)): #Signal Region Limits (1 Sigma Cut)\n",
    "        new_ch1.append(a)\n",
    "        new_ch2.append(b)\n",
    "        new_ch3.append(c)\n",
    "\n",
    "potential_candidates = np.size(new_ch1)\n",
    "\n",
    "print(\"The total number of potential upward muon candidates is \" + str(potential_candidates))"
   ]
  },
  {
   "cell_type": "code",
   "execution_count": 52,
   "metadata": {},
   "outputs": [
    {
     "data": {
      "text/plain": [
       "Text(0.5, 0, 'Ch3 - Ch1')"
      ]
     },
     "execution_count": 52,
     "metadata": {},
     "output_type": "execute_result"
    },
    {
     "data": {
      "text/plain": [
       "Text(0, 0.5, 'Pulse Width 1')"
      ]
     },
     "execution_count": 52,
     "metadata": {},
     "output_type": "execute_result"
    },
    {
     "data": {
      "image/png": "[encoded data removed]",
      "text/plain": [
       "<Figure size 432x288 with 1 Axes>"
      ]
     },
     "metadata": {
      "needs_background": "light"
     },
     "output_type": "display_data"
    }
   ],
   "source": [
    "#Plotting 2D Histogram with Pulse Width\n",
    "\n",
    "filter_to_data['Delta_T_V3'] = (filter_to_data['Hit1.ch3'] - filter_to_data['Hit1.ch1'])\n",
    "\n",
    "no_outlier_data_V5 = []\n",
    "no_outlier_data_V6 = []\n",
    "for a,b in zip(filter_to_data['Delta_T_V3'], filter_to_data['PW1']):\n",
    "    if (a > -30 and a < 30  and b > -30 and b < 30):\n",
    "        no_outlier_data_V5.append(b)\n",
    "        no_outlier_data_V6.append(a)\n",
    "\n",
    "\n",
    "fig, ax = plt.subplots(tight_layout=True)\n",
    "hist = ax.hist2d(no_outlier_data_V6, no_outlier_data_V5,  bins= 40, norm = mpl.colors.LogNorm(), cmap = 'twilight_shifted')\n",
    "plt.xlabel('Ch3 - Ch1')\n",
    "plt.ylabel('Pulse Width 1')\n",
    "ax.set_facecolor('lightgrey') "
   ]
  },
  {
   "cell_type": "code",
   "execution_count": null,
   "metadata": {},
   "outputs": [],
   "source": []
  }
 ],
 "metadata": {
  "kernelspec": {
   "display_name": "Python 3",
   "language": "python",
   "name": "python3"
  },
  "language_info": {
   "codemirror_mode": {
    "name": "ipython",
    "version": 3
   },
   "file_extension": ".py",
   "mimetype": "text/x-python",
   "name": "python",
   "nbconvert_exporter": "python",
   "pygments_lexer": "ipython3",
   "version": "3.8.8"
  },
  "vscode": {
   "interpreter": {
    "hash": "d254c79ca0780151aaa7e4cd16056ebdec783c71a8789cb97d8cd0ee929d8311"
   }
  }
 },
 "nbformat": 4,
 "nbformat_minor": 2
}
