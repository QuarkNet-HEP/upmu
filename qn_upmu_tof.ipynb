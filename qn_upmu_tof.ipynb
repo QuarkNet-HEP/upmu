{
 "cells": [
  {
   "cell_type": "code",
   "execution_count": 1,
   "metadata": {},
   "outputs": [
    {
     "data": {
      "text/html": [
       "<div>\n",
       "<style scoped>\n",
       "    .dataframe tbody tr th:only-of-type {\n",
       "        vertical-align: middle;\n",
       "    }\n",
       "\n",
       "    .dataframe tbody tr th {\n",
       "        vertical-align: top;\n",
       "    }\n",
       "\n",
       "    .dataframe thead th {\n",
       "        text-align: right;\n",
       "    }\n",
       "</style>\n",
       "<table border=\"1\" class=\"dataframe\">\n",
       "  <thead>\n",
       "    <tr style=\"text-align: right;\">\n",
       "      <th></th>\n",
       "      <th>Event</th>\n",
       "      <th>NmHitDAQ1</th>\n",
       "      <th>MinFracDay</th>\n",
       "      <th>JulDay</th>\n",
       "      <th>SSDB</th>\n",
       "      <th>eventDateTime</th>\n",
       "      <th>Hit1.ch1</th>\n",
       "      <th>PW1</th>\n",
       "      <th>Hit1.ch2</th>\n",
       "      <th>PW2</th>\n",
       "      <th>...</th>\n",
       "      <th>Hit1.ch4</th>\n",
       "      <th>PW4</th>\n",
       "      <th>Hit2.ch1</th>\n",
       "      <th>PW1.1</th>\n",
       "      <th>Hit2.ch2</th>\n",
       "      <th>PW2.1</th>\n",
       "      <th>Hit2.ch3</th>\n",
       "      <th>PW3.1</th>\n",
       "      <th>Hit2.ch4</th>\n",
       "      <th>PW4.1</th>\n",
       "    </tr>\n",
       "  </thead>\n",
       "  <tbody>\n",
       "    <tr>\n",
       "      <th>0</th>\n",
       "      <td>1</td>\n",
       "      <td>4</td>\n",
       "      <td>0.500012</td>\n",
       "      <td>2459747</td>\n",
       "      <td>43201.03</td>\n",
       "      <td>6/17/2022 0:0:1</td>\n",
       "      <td>0.00</td>\n",
       "      <td>17.50</td>\n",
       "      <td>2.50</td>\n",
       "      <td>25.00</td>\n",
       "      <td>...</td>\n",
       "      <td>3.0</td>\n",
       "      <td>25.01</td>\n",
       "      <td>-1.0</td>\n",
       "      <td>-1.0</td>\n",
       "      <td>-1.0</td>\n",
       "      <td>-1.0</td>\n",
       "      <td>-1.0</td>\n",
       "      <td>-1.0</td>\n",
       "      <td>-1.0</td>\n",
       "      <td>-1.0</td>\n",
       "    </tr>\n",
       "    <tr>\n",
       "      <th>1</th>\n",
       "      <td>2</td>\n",
       "      <td>4</td>\n",
       "      <td>0.500012</td>\n",
       "      <td>2459747</td>\n",
       "      <td>43201.07</td>\n",
       "      <td>6/17/2022 0:0:1</td>\n",
       "      <td>0.75</td>\n",
       "      <td>22.49</td>\n",
       "      <td>0.75</td>\n",
       "      <td>23.75</td>\n",
       "      <td>...</td>\n",
       "      <td>0.0</td>\n",
       "      <td>23.75</td>\n",
       "      <td>-1.0</td>\n",
       "      <td>-1.0</td>\n",
       "      <td>-1.0</td>\n",
       "      <td>-1.0</td>\n",
       "      <td>-1.0</td>\n",
       "      <td>-1.0</td>\n",
       "      <td>-1.0</td>\n",
       "      <td>-1.0</td>\n",
       "    </tr>\n",
       "    <tr>\n",
       "      <th>2</th>\n",
       "      <td>3</td>\n",
       "      <td>2</td>\n",
       "      <td>0.500013</td>\n",
       "      <td>2459747</td>\n",
       "      <td>43201.16</td>\n",
       "      <td>6/17/2022 0:0:1</td>\n",
       "      <td>-1.00</td>\n",
       "      <td>-1.00</td>\n",
       "      <td>-1.00</td>\n",
       "      <td>-1.00</td>\n",
       "      <td>...</td>\n",
       "      <td>0.0</td>\n",
       "      <td>32.50</td>\n",
       "      <td>-1.0</td>\n",
       "      <td>-1.0</td>\n",
       "      <td>-1.0</td>\n",
       "      <td>-1.0</td>\n",
       "      <td>-1.0</td>\n",
       "      <td>-1.0</td>\n",
       "      <td>-1.0</td>\n",
       "      <td>-1.0</td>\n",
       "    </tr>\n",
       "  </tbody>\n",
       "</table>\n",
       "<p>3 rows × 22 columns</p>\n",
       "</div>"
      ],
      "text/plain": [
       "   Event  NmHitDAQ1  MinFracDay   JulDay      SSDB    eventDateTime  Hit1.ch1  \\\n",
       "0      1          4    0.500012  2459747  43201.03  6/17/2022 0:0:1      0.00   \n",
       "1      2          4    0.500012  2459747  43201.07  6/17/2022 0:0:1      0.75   \n",
       "2      3          2    0.500013  2459747  43201.16  6/17/2022 0:0:1     -1.00   \n",
       "\n",
       "     PW1  Hit1.ch2    PW2  ...  Hit1.ch4    PW4  Hit2.ch1  PW1.1  Hit2.ch2  \\\n",
       "0  17.50      2.50  25.00  ...       3.0  25.01      -1.0   -1.0      -1.0   \n",
       "1  22.49      0.75  23.75  ...       0.0  23.75      -1.0   -1.0      -1.0   \n",
       "2  -1.00     -1.00  -1.00  ...       0.0  32.50      -1.0   -1.0      -1.0   \n",
       "\n",
       "   PW2.1  Hit2.ch3  PW3.1  Hit2.ch4  PW4.1  \n",
       "0   -1.0      -1.0   -1.0      -1.0   -1.0  \n",
       "1   -1.0      -1.0   -1.0      -1.0   -1.0  \n",
       "2   -1.0      -1.0   -1.0      -1.0   -1.0  \n",
       "\n",
       "[3 rows x 22 columns]"
      ]
     },
     "execution_count": 1,
     "metadata": {},
     "output_type": "execute_result"
    }
   ],
   "source": [
    "import pandas as pd\n",
    "pd.options.mode.chained_assignment = None  # default='warn'\n",
    "import numpy as np\n",
    "import matplotlib as mpl\n",
    "import matplotlib.pyplot as plt\n",
    "from IPython.core.interactiveshell import InteractiveShell\n",
    "InteractiveShell.ast_node_interactivity = \"all\"\n",
    "\n",
    "#read the file\n",
    "    \n",
    "data = pd.read_table('6119-hybridOut-June17-27.txt', skiprows=1)\n",
    "\n",
    "#drop columns with NaN\n",
    "\n",
    "data = data.dropna(axis='columns', how ='all')\n",
    "\n",
    "#fix the headers\n",
    "\n",
    "data = data.rename({'Event': 'Event', 'MinFracDay': 'NmHitDAQ1', \\\n",
    "\n",
    "                   'JulDay':'MinFracDay','Unnamed: 6':'JulDay', \\\n",
    "\n",
    "                   'Unnamed: 8':'SSDB', 'Unnamed: 10':'Hit1.ch1', \\\n",
    "\n",
    "                   'Unnamed: 13':'Hit1.ch2','Unnamed: 16':'Hit1.ch3', \\\n",
    "\n",
    "                   'Unnamed: 19':'Hit1.ch4','Unnamed: 22':'Hit2.ch1', \\\n",
    "\n",
    "                   'Unnamed: 25':'Hit2.ch2','Unnamed: 28':'Hit2.ch3', \\\n",
    "\n",
    "                   'Unnamed: 31':'Hit2.ch4'\n",
    "\n",
    "                   },\n",
    "\n",
    "                  axis=1)\n",
    "cols = data.columns\n",
    "\n",
    "cols = cols.map(lambda x: x.replace('#', '_') if isinstance(x, (str or unicode)) else x)\n",
    "\n",
    "data.columns = cols\n",
    "\n",
    "data.head(3)"
   ]
  },
  {
   "cell_type": "code",
   "execution_count": 2,
   "metadata": {},
   "outputs": [
    {
     "name": "stdout",
     "output_type": "stream",
     "text": [
      "New Mean is 4.238023141245303\n",
      "New Standard Deviation is 2.5648528377844584\n",
      "New Outlier length is 114687\n",
      "Number of Signal Events 117\n"
     ]
    },
    {
     "data": {
      "image/png": "[encoded data removed]",
      "text/plain": [
       "<Figure size 432x288 with 1 Axes>"
      ]
     },
     "metadata": {
      "needs_background": "light"
     },
     "output_type": "display_data"
    }
   ],
   "source": [
    "#Creating New Filter Columns\n",
    "data['Filter_1'] = data.iloc[:, 6] != -1  \n",
    "data['Filter_2'] = data.iloc[:, 8] != -1\n",
    "data['Filter_3'] = data.iloc[:, 10] != -1 \n",
    "data['Filter_4'] = data.iloc[:, 12] != -1 \n",
    "\n",
    "#data.head(5)\n",
    "\n",
    "filter_to_data = data.query('Filter_1 == True and Filter_3 == True and Filter_2 == True and Filter_4 == True')\n",
    "\n",
    "#Creating a new Delta_T Column (Calculates difference in two different channel hit columns)\n",
    "filter_to_data['Delta_T'] = (filter_to_data['Hit1.ch3'] - filter_to_data['Hit1.ch1'])\n",
    "\n",
    "#data.head(3)\n",
    "\n",
    "\n",
    "no_outlier_data = list(filter(lambda x: x < 30 and x > -30, filter_to_data['Delta_T'])) #Filters out outliers in calculations\n",
    "#2 Sigma Cut \n",
    "signal_region = list(filter(lambda x: x < -5.2 and x > -15.2, filter_to_data['Delta_T'])) #Focuses on Signal Region  \n",
    "#1 sigma Cut\n",
    "#signal_region = list(filter(lambda x: x < -7.7 and x > -12.7, filter_to_data['Delta_T'])) \n",
    "\n",
    "\n",
    "print(\"New Mean is \" + str(np.mean(no_outlier_data)))\n",
    "print(\"New Standard Deviation is \" + str(np.std(no_outlier_data)))\n",
    "print(\"New Outlier length is \" + str(np.size(no_outlier_data)))\n",
    "print(\"Number of Signal Events \" + str(np.size(signal_region)))\n",
    "\n",
    "#Finding the min and max value in Delta_T column\n",
    "x_max = max(filter_to_data['Delta_T'])\n",
    "x_min = min(filter_to_data['Delta_T'])\n",
    "\n",
    "#Setting the x limits as -30 to 30 on Graph\n",
    "if(x_max > 30):\n",
    "    x_max = 30   \n",
    "    \n",
    "if(x_min < -30):\n",
    "    x_min = -30\n",
    "\n",
    "#Plotting Histogram\n",
    "plt.hist(filter_to_data['Delta_T'], bins=25, range=[x_min,x_max], log=False, color = \"blue\")  # makes the histogram\n",
    "plt.title(\"Time Difference ch3-ch1\")\n",
    "\n",
    "#Rounding the mean on graph\n",
    "new_mean = round(np.mean(no_outlier_data), 2)\n",
    "\n",
    "plt.xlabel(\"Time Between Channels (ns) (Mean: \" + str(new_mean) + \")\")\n",
    "plt.ylabel(\"Number of Entries\")\n",
    "plt.grid(True);\n",
    "\n"
   ]
  },
  {
   "cell_type": "code",
   "execution_count": 3,
   "metadata": {},
   "outputs": [
    {
     "data": {
      "text/plain": [
       "(array([2.0000e+00, 0.0000e+00, 2.0000e+00, 6.0000e+00, 3.0000e+00,\n",
       "        4.0000e+00, 7.0000e+00, 7.0000e+00, 2.4000e+01, 2.6000e+01,\n",
       "        1.4400e+02, 1.1130e+03, 9.7280e+03, 3.5667e+04, 4.3615e+04,\n",
       "        1.9412e+04, 4.2160e+03, 5.5800e+02, 1.1100e+02, 1.1000e+01,\n",
       "        1.9000e+01, 7.0000e+00, 2.0000e+00, 2.0000e+00, 1.0000e+00]),\n",
       " array([-30. , -27.6, -25.2, -22.8, -20.4, -18. , -15.6, -13.2, -10.8,\n",
       "         -8.4,  -6. ,  -3.6,  -1.2,   1.2,   3.6,   6. ,   8.4,  10.8,\n",
       "         13.2,  15.6,  18. ,  20.4,  22.8,  25.2,  27.6,  30. ]),\n",
       " <BarContainer object of 25 artists>)"
      ]
     },
     "execution_count": 3,
     "metadata": {},
     "output_type": "execute_result"
    },
    {
     "data": {
      "text/plain": [
       "Text(0.5, 1.0, 'Time Difference ch3-ch1')"
      ]
     },
     "execution_count": 3,
     "metadata": {},
     "output_type": "execute_result"
    },
    {
     "data": {
      "text/plain": [
       "Text(0.5, 0, 'Time Between Channels (ns) (Mean: 4.24)')"
      ]
     },
     "execution_count": 3,
     "metadata": {},
     "output_type": "execute_result"
    },
    {
     "data": {
      "text/plain": [
       "Text(0, 0.5, 'Number of Entries')"
      ]
     },
     "execution_count": 3,
     "metadata": {},
     "output_type": "execute_result"
    },
    {
     "data": {
      "image/png": "[encoded data removed]",
      "text/plain": [
       "<Figure size 432x288 with 1 Axes>"
      ]
     },
     "metadata": {
      "needs_background": "light"
     },
     "output_type": "display_data"
    }
   ],
   "source": [
    "#Plotting the Graph in Log Scale\n",
    "#Log can be useful to see the full distribution\n",
    "\n",
    "plt.hist(filter_to_data['Delta_T'], bins=25, range=[x_min,x_max], log=False, color = \"blue\")  # makes the histogram\n",
    "plt.title(\"Time Difference ch3-ch1\")\n",
    "\n",
    "new_mean = round(np.mean(no_outlier_data), 2)\n",
    "\n",
    "plt.xlabel(\"Time Between Channels (ns) (Mean: \" + str(new_mean) + \")\")\n",
    "plt.ylabel(\"Number of Entries\")\n",
    "plt.grid(True);\n",
    "plt.yscale('log') "
   ]
  },
  {
   "cell_type": "code",
   "execution_count": 4,
   "metadata": {},
   "outputs": [
    {
     "name": "stdout",
     "output_type": "stream",
     "text": [
      "New mean is 1.0487575739082675\n",
      "New standard deviation is 1.8456959071125276\n",
      "New Outlier length is 114703\n",
      "Number of Signal Events 792\n"
     ]
    },
    {
     "data": {
      "image/png": "[encoded data removed]",
      "text/plain": [
       "<Figure size 432x288 with 1 Axes>"
      ]
     },
     "metadata": {
      "needs_background": "light"
     },
     "output_type": "display_data"
    }
   ],
   "source": [
    "#Graphing a Different Set of Counters\n",
    "\n",
    "\n",
    "filter_to_data['Delta_T'] = (filter_to_data['Hit1.ch4'] - filter_to_data['Hit1.ch2'])\n",
    "\n",
    "\n",
    "no_outlier_data = list(filter(lambda x: x < 21 and x > -19, filter_to_data['Delta_T'])) #Filters out outliers in calculations\n",
    "signal_region = list(filter(lambda x: x < -3.3  and x > -7.3, filter_to_data['Delta_T'])) #Focuses on Signal Region\n",
    "\n",
    "print(\"New mean is \" + str(np.mean(no_outlier_data)))\n",
    "print(\"New standard deviation is \" + str(np.std(no_outlier_data)))\n",
    "print(\"New Outlier length is \" + str(np.size(no_outlier_data)))\n",
    "print(\"Number of Signal Events \" + str(np.size(signal_region)))\n",
    "\n",
    "x_max = max(filter_to_data['Delta_T'])\n",
    "x_min = min(filter_to_data['Delta_T'])\n",
    "\n",
    "if(x_max > 30):\n",
    "    x_max = 30   \n",
    "    \n",
    "if(x_min < -30):\n",
    "    x_min = -30\n",
    "\n",
    "plt.hist(filter_to_data['Delta_T'], bins=25, range=[x_min,x_max], log=False, color = \"green\")  # makes the histogram\n",
    "plt.title(\"Time Difference ch4-ch2\")\n",
    "plt.xlabel(\"Time Between Channels (ns) (Mean: \" + str(new_mean) + \")\")\n",
    "plt.yscale('log') #Remember you can always change from log to linear\n",
    "plt.ylabel(\"Number of Entries\")\n",
    "plt.grid(True);\n"
   ]
  },
  {
   "cell_type": "code",
   "execution_count": null,
   "metadata": {},
   "outputs": [],
   "source": []
  }
 ],
 "metadata": {
  "kernelspec": {
   "display_name": "Python 3",
   "language": "python",
   "name": "python3"
  },
  "language_info": {
   "codemirror_mode": {
    "name": "ipython",
    "version": 3
   },
   "file_extension": ".py",
   "mimetype": "text/x-python",
   "name": "python",
   "nbconvert_exporter": "python",
   "pygments_lexer": "ipython3",
   "version": "3.8.8"
  },
  "vscode": {
   "interpreter": {
    "hash": "d254c79ca0780151aaa7e4cd16056ebdec783c71a8789cb97d8cd0ee929d8311"
   }
  }
 },
 "nbformat": 4,
 "nbformat_minor": 2
}
