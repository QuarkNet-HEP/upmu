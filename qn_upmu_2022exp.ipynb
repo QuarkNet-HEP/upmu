{
 "cells": [
  {
   "cell_type": "code",
   "execution_count": null,
   "metadata": {},
   "outputs": [],
   "source": [
    "import pandas as pd\n",
    "import numpy as np\n",
    "import matplotlib as mpl\n",
    "import matplotlib.pyplot as plt\n",
    "from IPython.core.interactiveshell import InteractiveShell\n",
    "InteractiveShell.ast_node_interactivity = \"all\"\n",
    "\n",
    "#read the file\n",
    "    \n",
    "data = pd.read_table('6119-hybridOut-June17-27.txt', skiprows=1)\n",
    "\n",
    "#drop columns with NaN\n",
    "\n",
    "data = data.dropna(axis='columns', how ='all')\n",
    "\n",
    "#fix the headers\n",
    "\n",
    "data = data.rename({'Event': 'Event', 'MinFracDay': 'NmHitDAQ1', \\\n",
    "\n",
    "                   'JulDay':'MinFracDay','Unnamed: 6':'JulDay', \\\n",
    "\n",
    "                   'Unnamed: 8':'SSDB', 'Unnamed: 10':'Hit1.ch1', \\\n",
    "\n",
    "                   'Unnamed: 13':'Hit1.ch2','Unnamed: 16':'Hit1.ch3', \\\n",
    "\n",
    "                   'Unnamed: 19':'Hit1.ch4','Unnamed: 22':'Hit2.ch1', \\\n",
    "\n",
    "                   'Unnamed: 25':'Hit2.ch2','Unnamed: 28':'Hit2.ch3', \\\n",
    "\n",
    "                   'Unnamed: 31':'Hit2.ch4'\n",
    "\n",
    "                   },\n",
    "\n",
    "                  axis=1)\n",
    "cols = data.columns\n",
    "\n",
    "cols = cols.map(lambda x: x.replace('#', '_') if isinstance(x, (str or unicode)) else x)\n",
    "\n",
    "data.columns = cols\n",
    "\n",
    "data.head(3)"
   ]
  }
 ],
 "metadata": {
  "kernelspec": {
   "display_name": "Python 3.8.8 64-bit ('Anaconda')",
   "language": "python",
   "name": "python3"
  },
  "language_info": {
   "name": "python",
   "version": "3.8.8"
  },
  "orig_nbformat": 4,
  "vscode": {
   "interpreter": {
    "hash": "d254c79ca0780151aaa7e4cd16056ebdec783c71a8789cb97d8cd0ee929d8311"
   }
  }
 },
 "nbformat": 4,
 "nbformat_minor": 2
}
