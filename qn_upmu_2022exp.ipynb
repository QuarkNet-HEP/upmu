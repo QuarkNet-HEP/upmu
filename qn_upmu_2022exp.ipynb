{
 "cells": [
  {
   "cell_type": "code",
   "execution_count": null,
   "metadata": {},
   "outputs": [],
   "source": []
  }
 ],
 "metadata": {
  "kernelspec": {
   "display_name": "Python 3.8.8 64-bit ('Anaconda')",
   "language": "python",
   "name": "python3"
  },
  "language_info": {
   "name": "python",
   "version": "3.8.8"
  },
  "orig_nbformat": 4,
  "vscode": {
   "interpreter": {
    "hash": "d254c79ca0780151aaa7e4cd16056ebdec783c71a8789cb97d8cd0ee929d8311"
   }
  }
 },
 "nbformat": 4,
 "nbformat_minor": 2
}
